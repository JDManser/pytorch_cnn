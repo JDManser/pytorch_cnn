{
 "cells": [
  {
   "cell_type": "code",
   "execution_count": null,
   "metadata": {},
   "outputs": [],
   "source": [
    "from spectral import *\n",
    "import spectral.io.envi as envi\n",
    "import numpy as np\n",
    "import matplotlib.pyplot as plt\n",
    "import matplotlib as mpl\n",
    "from sklearn.cluster import KMeans"
   ]
  },
  {
   "cell_type": "code",
   "execution_count": null,
   "metadata": {},
   "outputs": [],
   "source": [
    "IMAGE_TO_OPEN = \"C:\\\\Users\\\\Alex\\\\Desktop\\\\Q171\\\\Q171_1_irradiance\"\n",
    "\n",
    "img_raw = envi.open(IMAGE_TO_OPEN + \".hdr\", IMAGE_TO_OPEN + \".raw\")\n",
    "\n",
    "img_raw_matrix = np.array(img_raw.load())"
   ]
  },
  {
   "cell_type": "code",
   "execution_count": null,
   "metadata": {},
   "outputs": [],
   "source": [
    "def get_images_in_wavelength_range(hsi_image, band_start, band_end, bands):\n",
    "    images = []\n",
    "    for id, band in enumerate(bands):\n",
    "\n",
    "        if band >= band_start and band <= band_end:\n",
    "            images.append(hsi_image[:,:,id])\n",
    "    return images\n",
    "\n",
    "\n",
    "def get_mean_of_image_array(image_array : list):\n",
    "    mean_of_each_band = [np.mean(image) for image in image_array]\n",
    "\n",
    "    return np.mean(mean_of_each_band)\n",
    "\n",
    "def get_ndvi_from_calibrated_hsi(image, bands):\n",
    "\n",
    "    vnir_images = get_images_in_wavelength_range(image,650,680,bands)\n",
    "    ir_images = get_images_in_wavelength_range(image,710,740,bands)\n",
    "\n",
    "    mean_vnir_intensity = get_mean_of_image_array(vnir_images)\n",
    "    mean_ir_intensity = get_mean_of_image_array(ir_images)\n",
    "\n",
    "    return (mean_ir_intensity - mean_vnir_intensity) / (mean_ir_intensity + mean_vnir_intensity)\n",
    "\n",
    "bands = img_raw.bands.centers\n",
    "ndvi = get_ndvi_from_calibrated_hsi(calibrated_image, bands)\n",
    "print(ndvi)"
   ]
  },
  {
   "cell_type": "code",
   "execution_count": null,
   "metadata": {},
   "outputs": [],
   "source": [
    "# implementation from https://en.m.wikipedia.org/wiki/Otsu's_method\n",
    "\n",
    "def otsu_intraclass_variance(image, threshold):\n",
    "    \"\"\"\n",
    "    Otsu's intra-class variance.\n",
    "    If all pixels are above or below the threshold, this will throw a warning that can safely be ignored.\n",
    "    \"\"\"\n",
    "    return np.nansum(\n",
    "        [\n",
    "            np.mean(cls) * np.var(image, where=cls)\n",
    "            #   weight   ·  intra-class variance\n",
    "            for cls in [image >= threshold, image < threshold]\n",
    "        ]\n",
    "    )\n",
    "    # NaNs only arise if the class is empty, in which case the contribution should be zero, which `nansum` accomplishes.\n",
    "\n",
    "\n",
    "# Random image for demonstration:\n",
    "image = np.random.randint(2, 253, size=(50, 50))\n",
    "\n",
    "otsu_threshold = min(\n",
    "    range(np.min(image) + 1, np.max(image)),\n",
    "    key=lambda th: otsu_intraclass_variance(image, th),\n",
    ")\n",
    "\n",
    "#  what threshold?\n",
    "print(otsu_intraclass_variance(calibrated_image, 1))"
   ]
  }
 ],
 "metadata": {
  "language_info": {
   "name": "python"
  }
 },
 "nbformat": 4,
 "nbformat_minor": 2
}
